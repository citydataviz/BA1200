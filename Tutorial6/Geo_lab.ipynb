{
 "cells": [
  {
   "cell_type": "markdown",
   "metadata": {},
   "source": [
    "# Geo-Lab : Geospacial data visualization\n",
    "\n"
   ]
  },
  {
   "cell_type": "code",
   "execution_count": 1,
   "metadata": {},
   "outputs": [
    {
     "data": {
      "text/html": [
       "<div>\n",
       "<style scoped>\n",
       "    .dataframe tbody tr th:only-of-type {\n",
       "        vertical-align: middle;\n",
       "    }\n",
       "\n",
       "    .dataframe tbody tr th {\n",
       "        vertical-align: top;\n",
       "    }\n",
       "\n",
       "    .dataframe thead th {\n",
       "        text-align: right;\n",
       "    }\n",
       "</style>\n",
       "<table border=\"1\" class=\"dataframe\">\n",
       "  <thead>\n",
       "    <tr style=\"text-align: right;\">\n",
       "      <th></th>\n",
       "      <th>CompanyName</th>\n",
       "      <th>CompanyNumber</th>\n",
       "      <th>RegAddress.CareOf</th>\n",
       "      <th>RegAddress.POBox</th>\n",
       "      <th>RegAddress.AddressLine1</th>\n",
       "      <th>RegAddress.AddressLine2</th>\n",
       "      <th>RegAddress.PostTown</th>\n",
       "      <th>RegAddress.County</th>\n",
       "      <th>RegAddress.Country</th>\n",
       "      <th>RegAddress.PostCode</th>\n",
       "      <th>...</th>\n",
       "      <th>PreviousName_7.CONDATE</th>\n",
       "      <th>PreviousName_7.CompanyName</th>\n",
       "      <th>PreviousName_8.CONDATE</th>\n",
       "      <th>PreviousName_8.CompanyName</th>\n",
       "      <th>PreviousName_9.CONDATE</th>\n",
       "      <th>PreviousName_9.CompanyName</th>\n",
       "      <th>PreviousName_10.CONDATE</th>\n",
       "      <th>PreviousName_10.CompanyName</th>\n",
       "      <th>ConfStmtNextDueDate</th>\n",
       "      <th>ConfStmtLastMadeUpDate</th>\n",
       "    </tr>\n",
       "  </thead>\n",
       "  <tbody>\n",
       "    <tr>\n",
       "      <th>2666979</th>\n",
       "      <td>LION RETAIL CONSULTING LTD</td>\n",
       "      <td>12300583</td>\n",
       "      <td>NaN</td>\n",
       "      <td>NaN</td>\n",
       "      <td>151 WEST GREEN ROAD</td>\n",
       "      <td>NaN</td>\n",
       "      <td>LONDON</td>\n",
       "      <td>NaN</td>\n",
       "      <td>ENGLAND</td>\n",
       "      <td>N15 5EA</td>\n",
       "      <td>...</td>\n",
       "      <td>NaN</td>\n",
       "      <td>NaN</td>\n",
       "      <td>NaN</td>\n",
       "      <td>NaN</td>\n",
       "      <td>NaN</td>\n",
       "      <td>NaN</td>\n",
       "      <td>NaN</td>\n",
       "      <td>NaN</td>\n",
       "      <td>17/11/2022</td>\n",
       "      <td>03/11/2021</td>\n",
       "    </tr>\n",
       "    <tr>\n",
       "      <th>4368416</th>\n",
       "      <td>TEACHING ENTREPRENEURS LTD</td>\n",
       "      <td>11555084</td>\n",
       "      <td>NaN</td>\n",
       "      <td>NaN</td>\n",
       "      <td>5 NORTH ST, HAILSHAM</td>\n",
       "      <td>NORTH STREET</td>\n",
       "      <td>HAILSHAM</td>\n",
       "      <td>NaN</td>\n",
       "      <td>UNITED KINGDOM</td>\n",
       "      <td>BN27 1DQ</td>\n",
       "      <td>...</td>\n",
       "      <td>NaN</td>\n",
       "      <td>NaN</td>\n",
       "      <td>NaN</td>\n",
       "      <td>NaN</td>\n",
       "      <td>NaN</td>\n",
       "      <td>NaN</td>\n",
       "      <td>NaN</td>\n",
       "      <td>NaN</td>\n",
       "      <td>19/09/2022</td>\n",
       "      <td>05/09/2021</td>\n",
       "    </tr>\n",
       "    <tr>\n",
       "      <th>2409340</th>\n",
       "      <td>JTS ELECTRICAL LTD</td>\n",
       "      <td>12927047</td>\n",
       "      <td>NaN</td>\n",
       "      <td>NaN</td>\n",
       "      <td>DORFOLD DAIRY HOUSE DIG LANE</td>\n",
       "      <td>ACTON</td>\n",
       "      <td>NANTWICH</td>\n",
       "      <td>NaN</td>\n",
       "      <td>ENGLAND</td>\n",
       "      <td>CW5 8PB</td>\n",
       "      <td>...</td>\n",
       "      <td>NaN</td>\n",
       "      <td>NaN</td>\n",
       "      <td>NaN</td>\n",
       "      <td>NaN</td>\n",
       "      <td>NaN</td>\n",
       "      <td>NaN</td>\n",
       "      <td>NaN</td>\n",
       "      <td>NaN</td>\n",
       "      <td>17/10/2021</td>\n",
       "      <td>NaN</td>\n",
       "    </tr>\n",
       "    <tr>\n",
       "      <th>1405515</th>\n",
       "      <td>EASTERN INDUSTRIAL CLADDING LTD</td>\n",
       "      <td>03215353</td>\n",
       "      <td>NaN</td>\n",
       "      <td>NaN</td>\n",
       "      <td>UNIT A</td>\n",
       "      <td>SAINT PETERS LANE</td>\n",
       "      <td>HOVETON</td>\n",
       "      <td>NORFOLK</td>\n",
       "      <td>NaN</td>\n",
       "      <td>NR12 8RL</td>\n",
       "      <td>...</td>\n",
       "      <td>NaN</td>\n",
       "      <td>NaN</td>\n",
       "      <td>NaN</td>\n",
       "      <td>NaN</td>\n",
       "      <td>NaN</td>\n",
       "      <td>NaN</td>\n",
       "      <td>NaN</td>\n",
       "      <td>NaN</td>\n",
       "      <td>12/02/2022</td>\n",
       "      <td>29/01/2021</td>\n",
       "    </tr>\n",
       "    <tr>\n",
       "      <th>3968890</th>\n",
       "      <td>SECURTECH IT LTD</td>\n",
       "      <td>SC710181</td>\n",
       "      <td>NaN</td>\n",
       "      <td>NaN</td>\n",
       "      <td>272 BATH STREET</td>\n",
       "      <td>NaN</td>\n",
       "      <td>GLASGOW</td>\n",
       "      <td>NaN</td>\n",
       "      <td>SCOTLAND</td>\n",
       "      <td>G2 4JR</td>\n",
       "      <td>...</td>\n",
       "      <td>NaN</td>\n",
       "      <td>NaN</td>\n",
       "      <td>NaN</td>\n",
       "      <td>NaN</td>\n",
       "      <td>NaN</td>\n",
       "      <td>NaN</td>\n",
       "      <td>NaN</td>\n",
       "      <td>NaN</td>\n",
       "      <td>05/10/2022</td>\n",
       "      <td>NaN</td>\n",
       "    </tr>\n",
       "  </tbody>\n",
       "</table>\n",
       "<p>5 rows × 55 columns</p>\n",
       "</div>"
      ],
      "text/plain": [
       "                             CompanyName  CompanyNumber RegAddress.CareOf  \\\n",
       "2666979       LION RETAIL CONSULTING LTD       12300583               NaN   \n",
       "4368416       TEACHING ENTREPRENEURS LTD       11555084               NaN   \n",
       "2409340               JTS ELECTRICAL LTD       12927047               NaN   \n",
       "1405515  EASTERN INDUSTRIAL CLADDING LTD       03215353               NaN   \n",
       "3968890                 SECURTECH IT LTD       SC710181               NaN   \n",
       "\n",
       "         RegAddress.POBox       RegAddress.AddressLine1  \\\n",
       "2666979               NaN           151 WEST GREEN ROAD   \n",
       "4368416               NaN          5 NORTH ST, HAILSHAM   \n",
       "2409340               NaN  DORFOLD DAIRY HOUSE DIG LANE   \n",
       "1405515               NaN                        UNIT A   \n",
       "3968890               NaN               272 BATH STREET   \n",
       "\n",
       "         RegAddress.AddressLine2 RegAddress.PostTown RegAddress.County  \\\n",
       "2666979                      NaN              LONDON               NaN   \n",
       "4368416             NORTH STREET            HAILSHAM               NaN   \n",
       "2409340                    ACTON            NANTWICH               NaN   \n",
       "1405515        SAINT PETERS LANE             HOVETON           NORFOLK   \n",
       "3968890                      NaN             GLASGOW               NaN   \n",
       "\n",
       "        RegAddress.Country RegAddress.PostCode  ... PreviousName_7.CONDATE  \\\n",
       "2666979            ENGLAND             N15 5EA  ...                    NaN   \n",
       "4368416     UNITED KINGDOM            BN27 1DQ  ...                    NaN   \n",
       "2409340            ENGLAND             CW5 8PB  ...                    NaN   \n",
       "1405515                NaN            NR12 8RL  ...                    NaN   \n",
       "3968890           SCOTLAND              G2 4JR  ...                    NaN   \n",
       "\n",
       "         PreviousName_7.CompanyName PreviousName_8.CONDATE  \\\n",
       "2666979                         NaN                    NaN   \n",
       "4368416                         NaN                    NaN   \n",
       "2409340                         NaN                    NaN   \n",
       "1405515                         NaN                    NaN   \n",
       "3968890                         NaN                    NaN   \n",
       "\n",
       "          PreviousName_8.CompanyName PreviousName_9.CONDATE  \\\n",
       "2666979                          NaN                    NaN   \n",
       "4368416                          NaN                    NaN   \n",
       "2409340                          NaN                    NaN   \n",
       "1405515                          NaN                    NaN   \n",
       "3968890                          NaN                    NaN   \n",
       "\n",
       "          PreviousName_9.CompanyName  PreviousName_10.CONDATE  \\\n",
       "2666979                          NaN                      NaN   \n",
       "4368416                          NaN                      NaN   \n",
       "2409340                          NaN                      NaN   \n",
       "1405515                          NaN                      NaN   \n",
       "3968890                          NaN                      NaN   \n",
       "\n",
       "         PreviousName_10.CompanyName ConfStmtNextDueDate  \\\n",
       "2666979                          NaN          17/11/2022   \n",
       "4368416                          NaN          19/09/2022   \n",
       "2409340                          NaN          17/10/2021   \n",
       "1405515                          NaN          12/02/2022   \n",
       "3968890                          NaN          05/10/2022   \n",
       "\n",
       "         ConfStmtLastMadeUpDate  \n",
       "2666979              03/11/2021  \n",
       "4368416              05/09/2021  \n",
       "2409340                     NaN  \n",
       "1405515              29/01/2021  \n",
       "3968890                     NaN  \n",
       "\n",
       "[5 rows x 55 columns]"
      ]
     },
     "execution_count": 1,
     "metadata": {},
     "output_type": "execute_result"
    }
   ],
   "source": [
    "import pandas as pd\n",
    "# read the data\n",
    "df = pd.read_csv('/Users/adfz088/Library/CloudStorage/OneDrive-City,UniversityofLondon/2024 UK/Teaching/(Lecture) Data Visualization/My slides/Session 8, Lab3/Assignemnt/company_sample.csv', index_col=0,nrows=100)\n",
    "\n",
    "df.head()"
   ]
  },
  {
   "cell_type": "markdown",
   "metadata": {},
   "source": [
    "## 1) Think about your process \n",
    "- Rename Column name? \n",
    "- remove unnecessary columns?\n",
    "- choose columns you need  ?\n",
    "- need to add a new column?\n",
    "- what libraries to use? (e.g. plotly)"
   ]
  },
  {
   "cell_type": "markdown",
   "metadata": {},
   "source": []
  },
  {
   "cell_type": "code",
   "execution_count": 25,
   "metadata": {},
   "outputs": [
    {
     "data": {
      "text/html": [
       "<div>\n",
       "<style scoped>\n",
       "    .dataframe tbody tr th:only-of-type {\n",
       "        vertical-align: middle;\n",
       "    }\n",
       "\n",
       "    .dataframe tbody tr th {\n",
       "        vertical-align: top;\n",
       "    }\n",
       "\n",
       "    .dataframe thead th {\n",
       "        text-align: right;\n",
       "    }\n",
       "</style>\n",
       "<table border=\"1\" class=\"dataframe\">\n",
       "  <thead>\n",
       "    <tr style=\"text-align: right;\">\n",
       "      <th></th>\n",
       "      <th>CompanyName</th>\n",
       "      <th>CompanyNumber</th>\n",
       "      <th>RegAddress.CareOf</th>\n",
       "      <th>RegAddress.POBox</th>\n",
       "      <th>RegAddress.AddressLine1</th>\n",
       "      <th>RegAddress.AddressLine2</th>\n",
       "      <th>RegAddress.PostTown</th>\n",
       "      <th>RegAddress.County</th>\n",
       "      <th>RegAddress.Country</th>\n",
       "      <th>RegAddress.PostCode</th>\n",
       "      <th>...</th>\n",
       "      <th>PreviousName_8.CONDATE</th>\n",
       "      <th>PreviousName_8.CompanyName</th>\n",
       "      <th>PreviousName_9.CONDATE</th>\n",
       "      <th>PreviousName_9.CompanyName</th>\n",
       "      <th>PreviousName_10.CONDATE</th>\n",
       "      <th>PreviousName_10.CompanyName</th>\n",
       "      <th>ConfStmtNextDueDate</th>\n",
       "      <th>ConfStmtLastMadeUpDate</th>\n",
       "      <th>Latitude</th>\n",
       "      <th>Longitude</th>\n",
       "    </tr>\n",
       "  </thead>\n",
       "  <tbody>\n",
       "    <tr>\n",
       "      <th>2666979</th>\n",
       "      <td>LION RETAIL CONSULTING LTD</td>\n",
       "      <td>12300583</td>\n",
       "      <td>NaN</td>\n",
       "      <td>NaN</td>\n",
       "      <td>151 WEST GREEN ROAD</td>\n",
       "      <td>NaN</td>\n",
       "      <td>LONDON</td>\n",
       "      <td>NaN</td>\n",
       "      <td>ENGLAND</td>\n",
       "      <td>N15 5EA</td>\n",
       "      <td>...</td>\n",
       "      <td>NaN</td>\n",
       "      <td>NaN</td>\n",
       "      <td>NaN</td>\n",
       "      <td>NaN</td>\n",
       "      <td>NaN</td>\n",
       "      <td>NaN</td>\n",
       "      <td>17/11/2022</td>\n",
       "      <td>03/11/2021</td>\n",
       "      <td>51.584300</td>\n",
       "      <td>-0.073000</td>\n",
       "    </tr>\n",
       "    <tr>\n",
       "      <th>4368416</th>\n",
       "      <td>TEACHING ENTREPRENEURS LTD</td>\n",
       "      <td>11555084</td>\n",
       "      <td>NaN</td>\n",
       "      <td>NaN</td>\n",
       "      <td>5 NORTH ST, HAILSHAM</td>\n",
       "      <td>NORTH STREET</td>\n",
       "      <td>HAILSHAM</td>\n",
       "      <td>NaN</td>\n",
       "      <td>UNITED KINGDOM</td>\n",
       "      <td>BN27 1DQ</td>\n",
       "      <td>...</td>\n",
       "      <td>NaN</td>\n",
       "      <td>NaN</td>\n",
       "      <td>NaN</td>\n",
       "      <td>NaN</td>\n",
       "      <td>NaN</td>\n",
       "      <td>NaN</td>\n",
       "      <td>19/09/2022</td>\n",
       "      <td>05/09/2021</td>\n",
       "      <td>50.879305</td>\n",
       "      <td>0.280695</td>\n",
       "    </tr>\n",
       "    <tr>\n",
       "      <th>2409340</th>\n",
       "      <td>JTS ELECTRICAL LTD</td>\n",
       "      <td>12927047</td>\n",
       "      <td>NaN</td>\n",
       "      <td>NaN</td>\n",
       "      <td>DORFOLD DAIRY HOUSE DIG LANE</td>\n",
       "      <td>ACTON</td>\n",
       "      <td>NANTWICH</td>\n",
       "      <td>NaN</td>\n",
       "      <td>ENGLAND</td>\n",
       "      <td>CW5 8PB</td>\n",
       "      <td>...</td>\n",
       "      <td>NaN</td>\n",
       "      <td>NaN</td>\n",
       "      <td>NaN</td>\n",
       "      <td>NaN</td>\n",
       "      <td>NaN</td>\n",
       "      <td>NaN</td>\n",
       "      <td>17/10/2021</td>\n",
       "      <td>NaN</td>\n",
       "      <td>53.075062</td>\n",
       "      <td>-2.501492</td>\n",
       "    </tr>\n",
       "    <tr>\n",
       "      <th>1405515</th>\n",
       "      <td>EASTERN INDUSTRIAL CLADDING LTD</td>\n",
       "      <td>03215353</td>\n",
       "      <td>NaN</td>\n",
       "      <td>NaN</td>\n",
       "      <td>UNIT A</td>\n",
       "      <td>SAINT PETERS LANE</td>\n",
       "      <td>HOVETON</td>\n",
       "      <td>NORFOLK</td>\n",
       "      <td>NaN</td>\n",
       "      <td>NR12 8RL</td>\n",
       "      <td>...</td>\n",
       "      <td>NaN</td>\n",
       "      <td>NaN</td>\n",
       "      <td>NaN</td>\n",
       "      <td>NaN</td>\n",
       "      <td>NaN</td>\n",
       "      <td>NaN</td>\n",
       "      <td>12/02/2022</td>\n",
       "      <td>29/01/2021</td>\n",
       "      <td>52.744707</td>\n",
       "      <td>1.450727</td>\n",
       "    </tr>\n",
       "    <tr>\n",
       "      <th>3968890</th>\n",
       "      <td>SECURTECH IT LTD</td>\n",
       "      <td>SC710181</td>\n",
       "      <td>NaN</td>\n",
       "      <td>NaN</td>\n",
       "      <td>272 BATH STREET</td>\n",
       "      <td>NaN</td>\n",
       "      <td>GLASGOW</td>\n",
       "      <td>NaN</td>\n",
       "      <td>SCOTLAND</td>\n",
       "      <td>G2 4JR</td>\n",
       "      <td>...</td>\n",
       "      <td>NaN</td>\n",
       "      <td>NaN</td>\n",
       "      <td>NaN</td>\n",
       "      <td>NaN</td>\n",
       "      <td>NaN</td>\n",
       "      <td>NaN</td>\n",
       "      <td>05/10/2022</td>\n",
       "      <td>NaN</td>\n",
       "      <td>55.865100</td>\n",
       "      <td>-4.257600</td>\n",
       "    </tr>\n",
       "  </tbody>\n",
       "</table>\n",
       "<p>5 rows × 57 columns</p>\n",
       "</div>"
      ],
      "text/plain": [
       "                             CompanyName  CompanyNumber RegAddress.CareOf  \\\n",
       "2666979       LION RETAIL CONSULTING LTD       12300583               NaN   \n",
       "4368416       TEACHING ENTREPRENEURS LTD       11555084               NaN   \n",
       "2409340               JTS ELECTRICAL LTD       12927047               NaN   \n",
       "1405515  EASTERN INDUSTRIAL CLADDING LTD       03215353               NaN   \n",
       "3968890                 SECURTECH IT LTD       SC710181               NaN   \n",
       "\n",
       "         RegAddress.POBox       RegAddress.AddressLine1  \\\n",
       "2666979               NaN           151 WEST GREEN ROAD   \n",
       "4368416               NaN          5 NORTH ST, HAILSHAM   \n",
       "2409340               NaN  DORFOLD DAIRY HOUSE DIG LANE   \n",
       "1405515               NaN                        UNIT A   \n",
       "3968890               NaN               272 BATH STREET   \n",
       "\n",
       "         RegAddress.AddressLine2 RegAddress.PostTown RegAddress.County  \\\n",
       "2666979                      NaN              LONDON               NaN   \n",
       "4368416             NORTH STREET            HAILSHAM               NaN   \n",
       "2409340                    ACTON            NANTWICH               NaN   \n",
       "1405515        SAINT PETERS LANE             HOVETON           NORFOLK   \n",
       "3968890                      NaN             GLASGOW               NaN   \n",
       "\n",
       "        RegAddress.Country RegAddress.PostCode  ... PreviousName_8.CONDATE  \\\n",
       "2666979            ENGLAND             N15 5EA  ...                    NaN   \n",
       "4368416     UNITED KINGDOM            BN27 1DQ  ...                    NaN   \n",
       "2409340            ENGLAND             CW5 8PB  ...                    NaN   \n",
       "1405515                NaN            NR12 8RL  ...                    NaN   \n",
       "3968890           SCOTLAND              G2 4JR  ...                    NaN   \n",
       "\n",
       "         PreviousName_8.CompanyName PreviousName_9.CONDATE  \\\n",
       "2666979                         NaN                    NaN   \n",
       "4368416                         NaN                    NaN   \n",
       "2409340                         NaN                    NaN   \n",
       "1405515                         NaN                    NaN   \n",
       "3968890                         NaN                    NaN   \n",
       "\n",
       "          PreviousName_9.CompanyName PreviousName_10.CONDATE  \\\n",
       "2666979                          NaN                     NaN   \n",
       "4368416                          NaN                     NaN   \n",
       "2409340                          NaN                     NaN   \n",
       "1405515                          NaN                     NaN   \n",
       "3968890                          NaN                     NaN   \n",
       "\n",
       "          PreviousName_10.CompanyName  ConfStmtNextDueDate  \\\n",
       "2666979                           NaN           17/11/2022   \n",
       "4368416                           NaN           19/09/2022   \n",
       "2409340                           NaN           17/10/2021   \n",
       "1405515                           NaN           12/02/2022   \n",
       "3968890                           NaN           05/10/2022   \n",
       "\n",
       "         ConfStmtLastMadeUpDate   Latitude Longitude  \n",
       "2666979              03/11/2021  51.584300 -0.073000  \n",
       "4368416              05/09/2021  50.879305  0.280695  \n",
       "2409340                     NaN  53.075062 -2.501492  \n",
       "1405515              29/01/2021  52.744707  1.450727  \n",
       "3968890                     NaN  55.865100 -4.257600  \n",
       "\n",
       "[5 rows x 57 columns]"
      ]
     },
     "execution_count": 25,
     "metadata": {},
     "output_type": "execute_result"
    }
   ],
   "source": [
    "import pgeocode\n",
    "\n",
    "df = df[df['RegAddress.PostCode'].notnull()]\n",
    "\n",
    "# 영국('gb')에 해당하는 Nominatim 객체 생성\n",
    "nomi = pgeocode.Nominatim('gb')\n",
    "\n",
    "# 위도와 경도 값을 저장할 빈 리스트 생성\n",
    "latitudes = []\n",
    "longitudes = []\n",
    "\n",
    "# DataFrame의 'RegAddress.PostCode' 컬럼을 순회하면서 각 우편번호에 대한 위도와 경도를 추출\n",
    "for postcode in df['RegAddress.PostCode']:\n",
    "    loc = nomi.query_postal_code(postcode)\n",
    "    latitudes.append(loc.latitude)\n",
    "    longitudes.append(loc.longitude)\n",
    "\n",
    "# 추출한 위도와 경도 리스트를 DataFrame의 새로운 컬럼에 할당\n",
    "df['Latitude'] = latitudes\n",
    "df['Longitude'] = longitudes\n",
    "\n",
    "# 결과 확인\n",
    "df.head()\n",
    "\n"
   ]
  },
  {
   "cell_type": "code",
   "execution_count": 23,
   "metadata": {},
   "outputs": [
    {
     "data": {
      "text/plain": [
       "nan"
      ]
     },
     "execution_count": 23,
     "metadata": {},
     "output_type": "execute_result"
    }
   ],
   "source": [
    "df['RegAddress.PostCode'].iloc[9]"
   ]
  },
  {
   "cell_type": "code",
   "execution_count": 12,
   "metadata": {},
   "outputs": [
    {
     "data": {
      "text/plain": [
       "51.584300000000006"
      ]
     },
     "execution_count": 12,
     "metadata": {},
     "output_type": "execute_result"
    }
   ],
   "source": [
    "nomi.query_postal_code(df['RegAddress.PostCode'].iloc[0]).latitude"
   ]
  },
  {
   "cell_type": "code",
   "execution_count": 30,
   "metadata": {},
   "outputs": [
    {
     "name": "stderr",
     "output_type": "stream",
     "text": [
      "/var/folders/sd/fb3_bq8d00z1v163rd8n7g2h0000gr/T/ipykernel_65795/3956114324.py:4: DeprecationWarning: *scatter_mapbox* is deprecated! Use *scatter_map* instead. Learn more at: https://plotly.com/python/mapbox-to-maplibre/\n",
      "  fig = px.scatter_mapbox(df, lat=\"Latitude\", lon=\"Longitude\", zoom=6, mapbox_style='open-street-map')\n"
     ]
    },
    {
     "data": {
      "application/vnd.plotly.v1+json": {
       "config": {
        "plotlyServerURL": "https://plot.ly"
       },
       "data": [
        {
         "hovertemplate": "Latitude=%{lat}<br>Longitude=%{lon}<extra></extra>",
         "lat": {
          "bdata": "w4anV8rKSUBfOyoTjXBJQJxw0p2biUpA/8pKk1JfSkCC4seYu+5LQPr4R55pnUlASjYptPKvSUDOiNLe4NNJQGCSfzqnA0pAZRniWBfPSUAMAiuHFsFJQO3okoRXwUlAgpVDi2y/SUAMAiuHFsFJQBDpt68D10pAl5APejbrS0CTzq39irJJQAwCK4cWwUlAcrLnRQDKSUCeXinLEL9JQMOr0gMMlkpAx1ufKpcmSkATGpswdNNJQFCNl24S00pAFr6bBWZqSUCNdXEbDbBKQKUsQxzrSkpAguLHmLvuS0BIc+Juz5lJQE7RkVz+20pAjaGcaFfZSUBE+u3rwM1JQBQSAOeRZklAHeviNhqaSkDM7snDQuVKQODpwGTVUkpA8IXJVMEnSkAMAiuHFsFJQNV46SYxyElA5IOezSqRSUD+1HjpJsFJQM3MzMzMvEpAukkMAivfSkBn5U8MgWBMQB3J5T+kr0lAZmZmZmbGSkCTqYJRSeVKQByEphKLqUlAw4anV8rKSUC94xQdyc1JQMRCrWne+UtAE6jrduMCSkBFR3L5D7FJQLU3+MJkkkxAMHT/a1P3SUCgGi/dJMZJQD98hl0BckpAGZ3+m10hSkBDHOviNvZJQGDzCxBmBEpAwhcmUwXPSUAFD+aJ+pFJQDJ3LSEfYkpAxbEubqMJS0Bhw9MrZclJQAwCK4cWwUlA7Civ4KrBSUATGpswdNNJQBSuR+F6zktA6Ugu/yG9SUDMXUvIBzVKQL5SliGO2klAHcnlP6SvSUDiWBe30UBKQAwCK4cWwUlAjErqBDS5SUAQ6bevA9dKQMRCrWne+UtA6SYxCKy8SUCT+e7jl/FJQKVza7+i2EpAJXUCmgjDSUAMAiuHFsFJQKUsQxzrSkpALUMc6+LGSUDZMh17eINLQGaIY13cqklA4xHvExp3S0BQjZduEkdKQEp7gy9MAktAqvsApDa5SUAMAiuHFsFJQAu1pnnHwUpAVg4tsp23SUAXOjhuUKBKQK8l5IOe5UpAoImw4enFSUATYcPTK71JQAwCK4cWwUlA",
          "dtype": "f8"
         },
         "legendgroup": "",
         "lon": {
          "bdata": "46WbxCCwsr/TWrkO5/bRP0vfJWYOAwTAg4b+CS429z9kzF1LyAcRwOPorFMmt+C/3JpRiuKy+r/y0k1iEFjZv+0p7kwqsN2/OiNKe4MvvL+7uI0G8BbAv0h4VXqAAdG/Zk6XxcTmy7+7uI0G8BbAv7mNBvAWSPm/3gIJih8jEcBWfa62Yn/Jv7u4jQbwFsC/soR80LNZyb9QjZduEoPQv3e+nxovvQHAVpFwwE1lBMAlVjNYXt/IvwdfmEwVjPy/FHGeflia/78wKqkT0MQIwFg5tMh2vv+/ZMxdS8gHEcAyKNdVA9HQP6foSC7/If+/i+TyH9Jvx78tIR/0bFbRv2hYwaOOwei/BTQRNjxtEMBBguLHmDsIwJNywk/nVea/s+pztRV74j+7uI0G8BbAvyzUmuYdp7g/HVpkO9+P77+lTkATYcPXv4Y41sVttADAeqUsQxzrB8AfDInI/VsDwMuhRbbz/dy/ZmZmZmZmAsA8vVKWIY75v5dBovZI8P+/46WbxCCwsr9zaJHtfD/Fv99PjZdukgnA+zdCGb0t6b+OdXEbDeC9P5vmHafoyADA/R7PQao73b9DHOviNhqwv7gbVzaGE/e/acM+mKBjzj9qTfOOU3TtP4iDLR/yP/K/fa62Yn/Zrb+eYVeA3KsFwFYOLbKd79o/bagY529C7b/wFkhQ/Bjbv7u4jQbwFsC/MJnXxqygr78lVjNYXt/Iv7ivA+eMeBLAfdCzWfW5mr90JJf/kH78v/VKWYY4Vt8/y6FFtvP93L+x4emVsgz/v7u4jQbwFsC/ZRniWBe3wb+5jQbwFkj5v99PjZdukgnAnzws1Jrmvb9g8jqePSTwP+C+Dpwzove/iPTb14Fztr+7uI0G8BbAv1g5tMh2vv+/S+0y6dza078eyeU/pB8dwPjCZKpg1AfArWnecYoO+79NX+KibQ/Rv28Sg8DK4fK/wlynkZbKqz+7uI0G8BbAvz0K16NwvQPA/tR46SZxBMCBo1sZNaoEwEYldQKaCPy/wTkjSnuDxb/tDb4wmSqIv7u4jQbwFsC/",
          "dtype": "f8"
         },
         "marker": {
          "color": "#636efa"
         },
         "mode": "markers",
         "name": "",
         "showlegend": false,
         "subplot": "mapbox",
         "type": "scattermapbox"
        }
       ],
       "layout": {
        "legend": {
         "tracegroupgap": 0
        },
        "mapbox": {
         "center": {
          "lat": 52.475643664001126,
          "lon": -1.1202740982251769
         },
         "domain": {
          "x": [
           0,
           1
          ],
          "y": [
           0,
           1
          ]
         },
         "style": "open-street-map",
         "zoom": 6
        },
        "margin": {
         "t": 60
        },
        "template": {
         "data": {
          "bar": [
           {
            "error_x": {
             "color": "#2a3f5f"
            },
            "error_y": {
             "color": "#2a3f5f"
            },
            "marker": {
             "line": {
              "color": "#E5ECF6",
              "width": 0.5
             },
             "pattern": {
              "fillmode": "overlay",
              "size": 10,
              "solidity": 0.2
             }
            },
            "type": "bar"
           }
          ],
          "barpolar": [
           {
            "marker": {
             "line": {
              "color": "#E5ECF6",
              "width": 0.5
             },
             "pattern": {
              "fillmode": "overlay",
              "size": 10,
              "solidity": 0.2
             }
            },
            "type": "barpolar"
           }
          ],
          "carpet": [
           {
            "aaxis": {
             "endlinecolor": "#2a3f5f",
             "gridcolor": "white",
             "linecolor": "white",
             "minorgridcolor": "white",
             "startlinecolor": "#2a3f5f"
            },
            "baxis": {
             "endlinecolor": "#2a3f5f",
             "gridcolor": "white",
             "linecolor": "white",
             "minorgridcolor": "white",
             "startlinecolor": "#2a3f5f"
            },
            "type": "carpet"
           }
          ],
          "choropleth": [
           {
            "colorbar": {
             "outlinewidth": 0,
             "ticks": ""
            },
            "type": "choropleth"
           }
          ],
          "contour": [
           {
            "colorbar": {
             "outlinewidth": 0,
             "ticks": ""
            },
            "colorscale": [
             [
              0,
              "#0d0887"
             ],
             [
              0.1111111111111111,
              "#46039f"
             ],
             [
              0.2222222222222222,
              "#7201a8"
             ],
             [
              0.3333333333333333,
              "#9c179e"
             ],
             [
              0.4444444444444444,
              "#bd3786"
             ],
             [
              0.5555555555555556,
              "#d8576b"
             ],
             [
              0.6666666666666666,
              "#ed7953"
             ],
             [
              0.7777777777777778,
              "#fb9f3a"
             ],
             [
              0.8888888888888888,
              "#fdca26"
             ],
             [
              1,
              "#f0f921"
             ]
            ],
            "type": "contour"
           }
          ],
          "contourcarpet": [
           {
            "colorbar": {
             "outlinewidth": 0,
             "ticks": ""
            },
            "type": "contourcarpet"
           }
          ],
          "heatmap": [
           {
            "colorbar": {
             "outlinewidth": 0,
             "ticks": ""
            },
            "colorscale": [
             [
              0,
              "#0d0887"
             ],
             [
              0.1111111111111111,
              "#46039f"
             ],
             [
              0.2222222222222222,
              "#7201a8"
             ],
             [
              0.3333333333333333,
              "#9c179e"
             ],
             [
              0.4444444444444444,
              "#bd3786"
             ],
             [
              0.5555555555555556,
              "#d8576b"
             ],
             [
              0.6666666666666666,
              "#ed7953"
             ],
             [
              0.7777777777777778,
              "#fb9f3a"
             ],
             [
              0.8888888888888888,
              "#fdca26"
             ],
             [
              1,
              "#f0f921"
             ]
            ],
            "type": "heatmap"
           }
          ],
          "histogram": [
           {
            "marker": {
             "pattern": {
              "fillmode": "overlay",
              "size": 10,
              "solidity": 0.2
             }
            },
            "type": "histogram"
           }
          ],
          "histogram2d": [
           {
            "colorbar": {
             "outlinewidth": 0,
             "ticks": ""
            },
            "colorscale": [
             [
              0,
              "#0d0887"
             ],
             [
              0.1111111111111111,
              "#46039f"
             ],
             [
              0.2222222222222222,
              "#7201a8"
             ],
             [
              0.3333333333333333,
              "#9c179e"
             ],
             [
              0.4444444444444444,
              "#bd3786"
             ],
             [
              0.5555555555555556,
              "#d8576b"
             ],
             [
              0.6666666666666666,
              "#ed7953"
             ],
             [
              0.7777777777777778,
              "#fb9f3a"
             ],
             [
              0.8888888888888888,
              "#fdca26"
             ],
             [
              1,
              "#f0f921"
             ]
            ],
            "type": "histogram2d"
           }
          ],
          "histogram2dcontour": [
           {
            "colorbar": {
             "outlinewidth": 0,
             "ticks": ""
            },
            "colorscale": [
             [
              0,
              "#0d0887"
             ],
             [
              0.1111111111111111,
              "#46039f"
             ],
             [
              0.2222222222222222,
              "#7201a8"
             ],
             [
              0.3333333333333333,
              "#9c179e"
             ],
             [
              0.4444444444444444,
              "#bd3786"
             ],
             [
              0.5555555555555556,
              "#d8576b"
             ],
             [
              0.6666666666666666,
              "#ed7953"
             ],
             [
              0.7777777777777778,
              "#fb9f3a"
             ],
             [
              0.8888888888888888,
              "#fdca26"
             ],
             [
              1,
              "#f0f921"
             ]
            ],
            "type": "histogram2dcontour"
           }
          ],
          "mesh3d": [
           {
            "colorbar": {
             "outlinewidth": 0,
             "ticks": ""
            },
            "type": "mesh3d"
           }
          ],
          "parcoords": [
           {
            "line": {
             "colorbar": {
              "outlinewidth": 0,
              "ticks": ""
             }
            },
            "type": "parcoords"
           }
          ],
          "pie": [
           {
            "automargin": true,
            "type": "pie"
           }
          ],
          "scatter": [
           {
            "fillpattern": {
             "fillmode": "overlay",
             "size": 10,
             "solidity": 0.2
            },
            "type": "scatter"
           }
          ],
          "scatter3d": [
           {
            "line": {
             "colorbar": {
              "outlinewidth": 0,
              "ticks": ""
             }
            },
            "marker": {
             "colorbar": {
              "outlinewidth": 0,
              "ticks": ""
             }
            },
            "type": "scatter3d"
           }
          ],
          "scattercarpet": [
           {
            "marker": {
             "colorbar": {
              "outlinewidth": 0,
              "ticks": ""
             }
            },
            "type": "scattercarpet"
           }
          ],
          "scattergeo": [
           {
            "marker": {
             "colorbar": {
              "outlinewidth": 0,
              "ticks": ""
             }
            },
            "type": "scattergeo"
           }
          ],
          "scattergl": [
           {
            "marker": {
             "colorbar": {
              "outlinewidth": 0,
              "ticks": ""
             }
            },
            "type": "scattergl"
           }
          ],
          "scattermap": [
           {
            "marker": {
             "colorbar": {
              "outlinewidth": 0,
              "ticks": ""
             }
            },
            "type": "scattermap"
           }
          ],
          "scattermapbox": [
           {
            "marker": {
             "colorbar": {
              "outlinewidth": 0,
              "ticks": ""
             }
            },
            "type": "scattermapbox"
           }
          ],
          "scatterpolar": [
           {
            "marker": {
             "colorbar": {
              "outlinewidth": 0,
              "ticks": ""
             }
            },
            "type": "scatterpolar"
           }
          ],
          "scatterpolargl": [
           {
            "marker": {
             "colorbar": {
              "outlinewidth": 0,
              "ticks": ""
             }
            },
            "type": "scatterpolargl"
           }
          ],
          "scatterternary": [
           {
            "marker": {
             "colorbar": {
              "outlinewidth": 0,
              "ticks": ""
             }
            },
            "type": "scatterternary"
           }
          ],
          "surface": [
           {
            "colorbar": {
             "outlinewidth": 0,
             "ticks": ""
            },
            "colorscale": [
             [
              0,
              "#0d0887"
             ],
             [
              0.1111111111111111,
              "#46039f"
             ],
             [
              0.2222222222222222,
              "#7201a8"
             ],
             [
              0.3333333333333333,
              "#9c179e"
             ],
             [
              0.4444444444444444,
              "#bd3786"
             ],
             [
              0.5555555555555556,
              "#d8576b"
             ],
             [
              0.6666666666666666,
              "#ed7953"
             ],
             [
              0.7777777777777778,
              "#fb9f3a"
             ],
             [
              0.8888888888888888,
              "#fdca26"
             ],
             [
              1,
              "#f0f921"
             ]
            ],
            "type": "surface"
           }
          ],
          "table": [
           {
            "cells": {
             "fill": {
              "color": "#EBF0F8"
             },
             "line": {
              "color": "white"
             }
            },
            "header": {
             "fill": {
              "color": "#C8D4E3"
             },
             "line": {
              "color": "white"
             }
            },
            "type": "table"
           }
          ]
         },
         "layout": {
          "annotationdefaults": {
           "arrowcolor": "#2a3f5f",
           "arrowhead": 0,
           "arrowwidth": 1
          },
          "autotypenumbers": "strict",
          "coloraxis": {
           "colorbar": {
            "outlinewidth": 0,
            "ticks": ""
           }
          },
          "colorscale": {
           "diverging": [
            [
             0,
             "#8e0152"
            ],
            [
             0.1,
             "#c51b7d"
            ],
            [
             0.2,
             "#de77ae"
            ],
            [
             0.3,
             "#f1b6da"
            ],
            [
             0.4,
             "#fde0ef"
            ],
            [
             0.5,
             "#f7f7f7"
            ],
            [
             0.6,
             "#e6f5d0"
            ],
            [
             0.7,
             "#b8e186"
            ],
            [
             0.8,
             "#7fbc41"
            ],
            [
             0.9,
             "#4d9221"
            ],
            [
             1,
             "#276419"
            ]
           ],
           "sequential": [
            [
             0,
             "#0d0887"
            ],
            [
             0.1111111111111111,
             "#46039f"
            ],
            [
             0.2222222222222222,
             "#7201a8"
            ],
            [
             0.3333333333333333,
             "#9c179e"
            ],
            [
             0.4444444444444444,
             "#bd3786"
            ],
            [
             0.5555555555555556,
             "#d8576b"
            ],
            [
             0.6666666666666666,
             "#ed7953"
            ],
            [
             0.7777777777777778,
             "#fb9f3a"
            ],
            [
             0.8888888888888888,
             "#fdca26"
            ],
            [
             1,
             "#f0f921"
            ]
           ],
           "sequentialminus": [
            [
             0,
             "#0d0887"
            ],
            [
             0.1111111111111111,
             "#46039f"
            ],
            [
             0.2222222222222222,
             "#7201a8"
            ],
            [
             0.3333333333333333,
             "#9c179e"
            ],
            [
             0.4444444444444444,
             "#bd3786"
            ],
            [
             0.5555555555555556,
             "#d8576b"
            ],
            [
             0.6666666666666666,
             "#ed7953"
            ],
            [
             0.7777777777777778,
             "#fb9f3a"
            ],
            [
             0.8888888888888888,
             "#fdca26"
            ],
            [
             1,
             "#f0f921"
            ]
           ]
          },
          "colorway": [
           "#636efa",
           "#EF553B",
           "#00cc96",
           "#ab63fa",
           "#FFA15A",
           "#19d3f3",
           "#FF6692",
           "#B6E880",
           "#FF97FF",
           "#FECB52"
          ],
          "font": {
           "color": "#2a3f5f"
          },
          "geo": {
           "bgcolor": "white",
           "lakecolor": "white",
           "landcolor": "#E5ECF6",
           "showlakes": true,
           "showland": true,
           "subunitcolor": "white"
          },
          "hoverlabel": {
           "align": "left"
          },
          "hovermode": "closest",
          "mapbox": {
           "style": "light"
          },
          "paper_bgcolor": "white",
          "plot_bgcolor": "#E5ECF6",
          "polar": {
           "angularaxis": {
            "gridcolor": "white",
            "linecolor": "white",
            "ticks": ""
           },
           "bgcolor": "#E5ECF6",
           "radialaxis": {
            "gridcolor": "white",
            "linecolor": "white",
            "ticks": ""
           }
          },
          "scene": {
           "xaxis": {
            "backgroundcolor": "#E5ECF6",
            "gridcolor": "white",
            "gridwidth": 2,
            "linecolor": "white",
            "showbackground": true,
            "ticks": "",
            "zerolinecolor": "white"
           },
           "yaxis": {
            "backgroundcolor": "#E5ECF6",
            "gridcolor": "white",
            "gridwidth": 2,
            "linecolor": "white",
            "showbackground": true,
            "ticks": "",
            "zerolinecolor": "white"
           },
           "zaxis": {
            "backgroundcolor": "#E5ECF6",
            "gridcolor": "white",
            "gridwidth": 2,
            "linecolor": "white",
            "showbackground": true,
            "ticks": "",
            "zerolinecolor": "white"
           }
          },
          "shapedefaults": {
           "line": {
            "color": "#2a3f5f"
           }
          },
          "ternary": {
           "aaxis": {
            "gridcolor": "white",
            "linecolor": "white",
            "ticks": ""
           },
           "baxis": {
            "gridcolor": "white",
            "linecolor": "white",
            "ticks": ""
           },
           "bgcolor": "#E5ECF6",
           "caxis": {
            "gridcolor": "white",
            "linecolor": "white",
            "ticks": ""
           }
          },
          "title": {
           "x": 0.05
          },
          "xaxis": {
           "automargin": true,
           "gridcolor": "white",
           "linecolor": "white",
           "ticks": "",
           "title": {
            "standoff": 15
           },
           "zerolinecolor": "white",
           "zerolinewidth": 2
          },
          "yaxis": {
           "automargin": true,
           "gridcolor": "white",
           "linecolor": "white",
           "ticks": "",
           "title": {
            "standoff": 15
           },
           "zerolinecolor": "white",
           "zerolinewidth": 2
          }
         }
        },
        "title": {
         "text": "Location of Companies",
         "x": 0.5
        }
       }
      }
     },
     "metadata": {},
     "output_type": "display_data"
    }
   ],
   "source": [
    "import plotly.express as px\n",
    "\n",
    "# plot a mapbox \n",
    "fig = px.scatter_mapbox(df, lat=\"Latitude\", lon=\"Longitude\", zoom=6, mapbox_style='open-street-map')\n",
    "\n",
    "# set the title\n",
    "fig.update_layout(\n",
    "    title='Location of Companies',\n",
    "    title_x=0.5,\n",
    ")\n",
    "\n",
    "# show the figure\n",
    "fig.show()"
   ]
  },
  {
   "cell_type": "code",
   "execution_count": null,
   "metadata": {},
   "outputs": [],
   "source": []
  }
 ],
 "metadata": {
  "kernelspec": {
   "display_name": "Python 3",
   "language": "python",
   "name": "python3"
  },
  "language_info": {
   "codemirror_mode": {
    "name": "ipython",
    "version": 3
   },
   "file_extension": ".py",
   "mimetype": "text/x-python",
   "name": "python",
   "nbconvert_exporter": "python",
   "pygments_lexer": "ipython3",
   "version": "3.9.6"
  },
  "orig_nbformat": 4
 },
 "nbformat": 4,
 "nbformat_minor": 2
}
