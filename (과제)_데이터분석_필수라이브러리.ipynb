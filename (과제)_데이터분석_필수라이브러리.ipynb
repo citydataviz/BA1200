{
  "nbformat": 4,
  "nbformat_minor": 0,
  "metadata": {
    "colab": {
      "provenance": [],
      "include_colab_link": true
    },
    "kernelspec": {
      "name": "python3",
      "display_name": "Python 3"
    },
    "language_info": {
      "name": "python"
    }
  },
  "cells": [
    {
      "cell_type": "markdown",
      "metadata": {
        "id": "view-in-github",
        "colab_type": "text"
      },
      "source": [
        "<a href=\"https://colab.research.google.com/github/citydataviz/BA1200/blob/main/%08(%E1%84%80%E1%85%AA%E1%84%8C%E1%85%A6)_%E1%84%83%E1%85%A6%E1%84%8B%E1%85%B5%E1%84%90%E1%85%A5%E1%84%87%E1%85%AE%E1%86%AB%E1%84%89%E1%85%A5%E1%86%A8_%E1%84%91%E1%85%B5%E1%86%AF%E1%84%89%E1%85%AE%E1%84%85%E1%85%A1%E1%84%8B%E1%85%B5%E1%84%87%E1%85%B3%E1%84%85%E1%85%A5%E1%84%85%E1%85%B5.ipynb\" target=\"_parent\"><img src=\"https://colab.research.google.com/assets/colab-badge.svg\" alt=\"Open In Colab\"/></a>"
      ]
    },
    {
      "cell_type": "markdown",
      "source": [
        "## 콜랩 샘플 데이터 불러오기\n",
        "\n",
        "- california_housing_test.csv 파일을 읽어보자.\n",
        "- pandas 라이브러리를 pd로 수정해서 사용\n",
        "- 힌트: pd.read_csv 사용"
      ],
      "metadata": {
        "id": "UeRUNhTu_4ol"
      }
    },
    {
      "cell_type": "code",
      "source": [
        "# 데이터프레임을 df 변수이름으로 저장\n"
      ],
      "metadata": {
        "id": "kSxl-8p9znem"
      },
      "execution_count": null,
      "outputs": []
    },
    {
      "cell_type": "code",
      "source": [
        "# 첫번째 5개 행 읽기 (head)\n"
      ],
      "metadata": {
        "id": "Oh8HdPFAWMw4"
      },
      "execution_count": null,
      "outputs": []
    },
    {
      "cell_type": "code",
      "source": [
        "# 2. 기본 정보 확인 (info, describe)\n"
      ],
      "metadata": {
        "id": "9YTY-LAJoP0u"
      },
      "execution_count": null,
      "outputs": []
    },
    {
      "cell_type": "code",
      "source": [
        "# 3. 위도(latitude)와 경도(latitude) 컬럼만 별도로 뽑아내기\n"
      ],
      "metadata": {
        "id": "u_k54NrQoQEx"
      },
      "execution_count": null,
      "outputs": []
    },
    {
      "cell_type": "code",
      "source": [
        "# 4. 조건부 필터링\n"
      ],
      "metadata": {
        "id": "SULR2SDDonpT"
      },
      "execution_count": null,
      "outputs": []
    },
    {
      "cell_type": "code",
      "source": [
        "# 5. 새로운 열 만들기\n",
        "# 방당 인구수 계산\n"
      ],
      "metadata": {
        "id": "_I7Q7KhaonrS"
      },
      "execution_count": null,
      "outputs": []
    },
    {
      "cell_type": "code",
      "source": [
        "# 7. 데이터 정렬\n"
      ],
      "metadata": {
        "id": "v2WgGkEqontl"
      },
      "execution_count": null,
      "outputs": []
    },
    {
      "cell_type": "code",
      "source": [],
      "metadata": {
        "id": "2BnHUH7-onv7"
      },
      "execution_count": null,
      "outputs": []
    },
    {
      "cell_type": "markdown",
      "source": [
        "## 시각화 라이브러리 pygwalker\n",
        "- Tableau 와 유사한 기능을 파이썬에서 실행가능\n",
        "- Link: https://github.com/Kanaries/pygwalker\n"
      ],
      "metadata": {
        "id": "mWLXeoK2pTAP"
      }
    },
    {
      "cell_type": "code",
      "source": [
        "# pygwaker 설치 (pip install + 패키지)"
      ],
      "metadata": {
        "id": "wEyrLlKRpX5Q"
      },
      "execution_count": null,
      "outputs": []
    },
    {
      "cell_type": "code",
      "source": [
        "# 설치 후 import + 라이브러리명\n",
        "\n",
        "import pygwalker as pyg\n",
        "pyg.walk(df)"
      ],
      "metadata": {
        "id": "93dwgU2kpP7g"
      },
      "execution_count": null,
      "outputs": []
    }
  ]
}