{
  "cells": [
    {
      "cell_type": "markdown",
      "metadata": {
        "id": "LhwmyRRmIbGX"
      },
      "source": [
        "# Basic Practice (Problem 1 to 8)"
      ]
    },
    {
      "cell_type": "markdown",
      "metadata": {},
      "source": [
        "- Your name : \n",
        "- My partner's name : "
      ]
    },
    {
      "cell_type": "markdown",
      "metadata": {
        "id": "-XFBYMTCI8pP"
      },
      "source": [
        "### Problem 1. Get average\n",
        "\n",
        "- Kate received scores in five subjects as the list given.\n",
        "\n",
        "- Write code to calculate the average of the scores Kate received."
      ]
    },
    {
      "cell_type": "code",
      "execution_count": null,
      "metadata": {
        "id": "Jrwe21_4I6JJ"
      },
      "outputs": [],
      "source": [
        "# Each score is between 0 and 100 points.\n",
        "grades = [65, 70, 100, 43, 50]"
      ]
    },
    {
      "cell_type": "code",
      "execution_count": null,
      "metadata": {
        "id": "b8R9ef8Uqos-"
      },
      "outputs": [],
      "source": []
    },
    {
      "cell_type": "markdown",
      "metadata": {
        "id": "B_ghQKvBJFnu"
      },
      "source": [
        "### Problem 2. What is a 'list'?\n",
        "* Here is information about the heights of five children in a class.\n",
        "* Make a list of them and put them in a variable called <em>heights</em>.\n",
        "*  175.3, 146, 184, 160, 167\n",
        "> Just type the number (except 'cm')"
      ]
    },
    {
      "cell_type": "code",
      "execution_count": null,
      "metadata": {
        "id": "bBDIu-etqp6x"
      },
      "outputs": [],
      "source": []
    },
    {
      "cell_type": "markdown",
      "metadata": {
        "id": "a2PaNyWVJqc3"
      },
      "source": [
        "### Problem 3. Let's check a data type for a list.\n",
        " - Let's check the data type of the list we created in problem 2 above.\n",
        "> HINT : Use 'type( )'"
      ]
    },
    {
      "cell_type": "code",
      "execution_count": null,
      "metadata": {
        "id": "htKVJzfZivIG"
      },
      "outputs": [],
      "source": []
    },
    {
      "cell_type": "markdown",
      "metadata": {
        "id": "bNEwV8mEJxzv"
      },
      "source": [
        "### Problem 4. Here's a new friend, 'Mike'\n",
        "* His height is 207cm\n",
        "* Add his height to the list <em>heights</em>, created from Problem 2 above\n",
        "* do not include 'cm' in the list.\n",
        "* Get the length of <em>heights</em>\n",
        "> HINT : append(), len()"
      ]
    },
    {
      "cell_type": "code",
      "execution_count": null,
      "metadata": {
        "id": "KEOj46ifiv2T"
      },
      "outputs": [],
      "source": []
    },
    {
      "cell_type": "markdown",
      "metadata": {
        "id": "BQ4uciKlKC1t"
      },
      "source": [
        "### Problem 5. Link heights with their name respectively!\n",
        "- We have the heights of five children, but we didn't know whose heights they were, but now we do.\n",
        "  - Charles: 146(cm),  Henry: 160(cm),  Sue: 167(cm),  Kate: 175.3(cm),  Son: 207cm\n",
        "  - do not show 'cm'\n",
        "- As a dictionary type, we want to give it a name (name - key) and a height (height - value) as shown above\n",
        "\n",
        "- Write it down in code and put it in a variable called <em>class_A'</em>."
      ]
    },
    {
      "cell_type": "code",
      "execution_count": null,
      "metadata": {
        "id": "INVJ-7UH1T6R"
      },
      "outputs": [],
      "source": [
        "## create a variable 'class_A'\n",
        "class_A ="
      ]
    },
    {
      "cell_type": "code",
      "execution_count": null,
      "metadata": {
        "id": "WJ9zOGRQKt3I"
      },
      "outputs": [],
      "source": [
        "## what is the height of Son?\n"
      ]
    },
    {
      "cell_type": "markdown",
      "metadata": {
        "id": "6jR8wnbHKuMl"
      },
      "source": [
        "### Problem 6. Search for children in the class by height.\n",
        " - For example, \"Who was the friend who was 175.3cm?\"\n",
        " - Let's run this in code, and find a friend who is 175.3 cm tall.\n",
        " > HINT :  <em>for</em> loop"
      ]
    },
    {
      "cell_type": "code",
      "execution_count": null,
      "metadata": {
        "id": "j27ZmT5CjDno"
      },
      "outputs": [],
      "source": []
    },
    {
      "cell_type": "markdown",
      "metadata": {
        "id": "DLUP70DTLu-D"
      },
      "source": [
        "### Problem 7. Let's create a simple calculator function.\n",
        " - Code a simple function for the addition function.\n",
        " - Code a function <em>plus() </em> that takes in the parameters number_01, number_02, and adds them together.\n",
        "    - parameter : When you declare a function, this is the variable that receives the data sent by the calling part.\n",
        " - After building the function, let's run it by putting the numbers 100 and 23 into the function.\n",
        "\n",
        "> HINT: def function_name(a, b)"
      ]
    },
    {
      "cell_type": "code",
      "execution_count": null,
      "metadata": {
        "id": "P7ibFrDvjE7M"
      },
      "outputs": [],
      "source": []
    },
    {
      "cell_type": "markdown",
      "metadata": {
        "id": "8RXzzfp4QZRB"
      },
      "source": [
        "### Problem 8. Let's run a simple <em>if</em> function\n",
        "\n",
        " - For people who are over 180cm tall, display the message \"You're really tall\", otherwise display the message \"You'll be tall\"\n",
        "\n",
        " - run each code, \"height_high(181)\", \"height_high(178)\""
      ]
    },
    {
      "cell_type": "code",
      "execution_count": null,
      "metadata": {
        "id": "iOxwxictjIdP"
      },
      "outputs": [],
      "source": [
        "\n"
      ]
    },
    {
      "cell_type": "code",
      "execution_count": null,
      "metadata": {
        "id": "pEw-AOf5Qf4f"
      },
      "outputs": [],
      "source": [
        "# run \"height_high(181)\"\n",
        "height_high(181)"
      ]
    },
    {
      "cell_type": "code",
      "execution_count": null,
      "metadata": {
        "id": "sgXdoLJXQnsK"
      },
      "outputs": [],
      "source": [
        "# run \"height_high(178)\"\n",
        "height_high(178)"
      ]
    },
    {
      "cell_type": "markdown",
      "metadata": {},
      "source": [
        "## Export and Send Your Notebook to Me!\n",
        "\n",
        "When you are finished, the next step is to export this notebook. \n",
        "\n",
        "In my experience, the best way to do this is as follows: \n",
        "\n",
        "1. Along the top of your notebook, select \"Export\" (it might be in the three-dot menu at the top of the notebook in the same bar as the `+ Code` button and the `+ Markdown` button).\n",
        "2. Choose \"HTML\" and **save it next to this notebook file**. This is important because any images in the HTML have relative file paths that are set up to be in reference to the location of your notebook, so if you save it somewhere else, when you open it you may lose all your images. \n",
        "3. Open that HTML in your normal web browser (Chrome, Firefox, etc), **not** in VS Code.\n",
        "4. Print the page to PDF.\n",
        "\n",
        "Why do this instead of choosing the PDF option when exporting? If you try and export a notebook directly to PDF, VS Code will actually try and use a tool to convert it to a LaTeX document, compile that latex document, then print, and getting this setup right can be a pain, and the LaTeX conversion often causes problems. So while a little convoluted, that's my recommendation. "
      ]
    },
    {
      "cell_type": "markdown",
      "metadata": {},
      "source": []
    }
  ],
  "metadata": {
    "colab": {
      "provenance": []
    },
    "kernelspec": {
      "display_name": "Python 3.10.7 64-bit",
      "language": "python",
      "name": "python3"
    },
    "language_info": {
      "name": "python",
      "version": "3.10.7"
    },
    "vscode": {
      "interpreter": {
        "hash": "aee8b7b246df8f9039afb4144a1f6fd8d2ca17a180786b69acc140d282b71a49"
      }
    }
  },
  "nbformat": 4,
  "nbformat_minor": 0
}
